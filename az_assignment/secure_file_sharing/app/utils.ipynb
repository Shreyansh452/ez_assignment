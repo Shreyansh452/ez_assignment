{
 "cells": [
  {
   "cell_type": "code",
   "execution_count": 6,
   "id": "2883c50c-8025-48f0-bf71-2721ea56041f",
   "metadata": {},
   "outputs": [
    {
     "name": "stdout",
     "output_type": "stream",
     "text": [
      "42cd2f7e3a17e46fa118152404c09bb2b38ae7bb3f4717bae6e6910c94a6825f\n"
     ]
    }
   ],
   "source": [
    "import secrets\n",
    "print(secrets.token_hex(32))\n"
   ]
  }
 ],
 "metadata": {
  "kernelspec": {
   "display_name": "Python [conda env:base] *",
   "language": "python",
   "name": "conda-base-py"
  },
  "language_info": {
   "codemirror_mode": {
    "name": "ipython",
    "version": 3
   },
   "file_extension": ".py",
   "mimetype": "text/x-python",
   "name": "python",
   "nbconvert_exporter": "python",
   "pygments_lexer": "ipython3",
   "version": "3.12.7"
  }
 },
 "nbformat": 4,
 "nbformat_minor": 5
}
