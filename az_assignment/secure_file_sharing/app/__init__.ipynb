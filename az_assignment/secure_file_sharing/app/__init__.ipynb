{
 "cells": [
  {
   "cell_type": "code",
   "execution_count": 2,
   "id": "2f43b53b-56f7-4dd8-bd56-3715bc497bc4",
   "metadata": {},
   "outputs": [],
   "source": [
    "from flask import Flask\n",
    "from flask_sqlalchemy import SQLAlchemy\n",
    "from flask_jwt_extended import JWTManager\n",
    "\n",
    "db = SQLAlchemy()\n",
    "jwt = JWTManager()\n",
    "\n",
    "def create_app():\n",
    "    app = Flask(__name__)\n",
    "\n",
    "    app.config['SQLALCHEMY_DATABASE_URI'] = 'sqlite:///secure_file_sharing.db'\n",
    "    app.config['SQLALCHEMY_TRACK_MODIFICATIONS'] = False\n",
    "    app.config['JWT_SECRET_KEY'] = '7b6e29fecd8f8bff60acb61ab22319d8ea3ac7de512efbd8357b99c5d71f5f07'  \n",
    "\n",
    "    \n",
    "    db.init_app(app)\n",
    "    jwt.init_app(app)\n",
    "\n",
    "    from app.routes import auth_bp\n",
    "    app.register_blueprint(auth_bp)\n",
    "\n",
    "    return app\n"
   ]
  },
  {
   "cell_type": "code",
   "execution_count": null,
   "id": "ff9ec6b9-c3fe-4880-84ed-d45edc6c1b02",
   "metadata": {
    "editable": true,
    "slideshow": {
     "slide_type": ""
    },
    "tags": []
   },
   "outputs": [],
   "source": []
  }
 ],
 "metadata": {
  "kernelspec": {
   "display_name": "Python [conda env:base] *",
   "language": "python",
   "name": "conda-base-py"
  },
  "language_info": {
   "codemirror_mode": {
    "name": "ipython",
    "version": 3
   },
   "file_extension": ".py",
   "mimetype": "text/x-python",
   "name": "python",
   "nbconvert_exporter": "python",
   "pygments_lexer": "ipython3",
   "version": "3.12.7"
  }
 },
 "nbformat": 4,
 "nbformat_minor": 5
}
