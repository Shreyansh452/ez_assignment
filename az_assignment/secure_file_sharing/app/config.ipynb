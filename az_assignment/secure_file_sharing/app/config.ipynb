{
 "cells": [
  {
   "cell_type": "code",
   "execution_count": null,
   "id": "c5ef0a00-5674-4546-9e08-b2a28130b92c",
   "metadata": {},
   "outputs": [],
   "source": [
    "\n",
    "SQLALCHEMY_DATABASE_URI = 'sqlite:///secure_file_sharing.db'\n",
    "SQLALCHEMY_TRACK_MODIFICATIONS = False\n",
    "JWT_SECRET_KEY = '7b6e29fecd8f8bff60acb61ab22319d8ea3ac7de512efbd8357b99c5d71f5f07'\n"
   ]
  }
 ],
 "metadata": {
  "kernelspec": {
   "display_name": "Python [conda env:base] *",
   "language": "python",
   "name": "conda-base-py"
  },
  "language_info": {
   "codemirror_mode": {
    "name": "ipython",
    "version": 3
   },
   "file_extension": ".py",
   "mimetype": "text/x-python",
   "name": "python",
   "nbconvert_exporter": "python",
   "pygments_lexer": "ipython3",
   "version": "3.12.7"
  }
 },
 "nbformat": 4,
 "nbformat_minor": 5
}
