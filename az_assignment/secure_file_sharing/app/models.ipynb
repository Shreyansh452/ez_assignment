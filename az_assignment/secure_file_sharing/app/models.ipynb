{
 "cells": [
  {
   "cell_type": "code",
   "execution_count": null,
   "id": "469f7028-5823-4df8-a884-136c871e83ed",
   "metadata": {
    "editable": true,
    "slideshow": {
     "slide_type": ""
    },
    "tags": []
   },
   "outputs": [],
   "source": [
    "from app import db\n",
    "from datetime import datetime\n",
    "\n",
    "class User(db.Model):\n",
    "    id = db.Column(db.Integer, primary_key=True)\n",
    "    username = db.Column(db.String(50), unique=True, nullable=False)\n",
    "    email = db.Column(db.String(100), unique=True, nullable=False)\n",
    "    password = db.Column(db.String(100), nullable=False)\n",
    "    role = db.Column(db.String(20), nullable=False)  # Ops or Client\n",
    "\n",
    "    def __repr__(self):\n",
    "        return f'<User {self.username}>'\n",
    "\n",
    "class File(db.Model):\n",
    "    id = db.Column(db.Integer, primary_key=True)\n",
    "    filename = db.Column(db.String(100), nullable=False)\n",
    "    uploaded_at = db.Column(db.DateTime, default=datetime.utcnow)\n",
    "\n",
    "    def __repr__(self):\n",
    "        return f'<File {self.filename}>'\n"
   ]
  },
  {
   "cell_type": "code",
   "execution_count": null,
   "id": "78a6606e-ac11-49dd-bc0e-36f0435e3415",
   "metadata": {
    "editable": true,
    "slideshow": {
     "slide_type": ""
    },
    "tags": []
   },
   "outputs": [],
   "source": []
  }
 ],
 "metadata": {
  "kernelspec": {
   "display_name": "Python [conda env:base] *",
   "language": "python",
   "name": "conda-base-py"
  },
  "language_info": {
   "codemirror_mode": {
    "name": "ipython",
    "version": 3
   },
   "file_extension": ".py",
   "mimetype": "text/x-python",
   "name": "python",
   "nbconvert_exporter": "python",
   "pygments_lexer": "ipython3",
   "version": "3.12.7"
  }
 },
 "nbformat": 4,
 "nbformat_minor": 5
}
