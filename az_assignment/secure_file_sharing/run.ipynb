{
 "cells": [
  {
   "cell_type": "code",
   "execution_count": null,
   "id": "5fb74fa7-e3a4-4ef3-bca1-fc64c7e2b338",
   "metadata": {
    "editable": true,
    "slideshow": {
     "slide_type": ""
    },
    "tags": []
   },
   "outputs": [],
   "source": [
    "import sys\n",
    "import os\n",
    "project_root = os.path.abspath(os.getcwd())\n",
    "print(\"Project root directory:\", project_root)\n",
    "sys.path.append(os.path.join(project_root, 'app'))\n",
    "print(\"sys.path:\", sys.path)\n",
    "from app import create_app, db\n",
    "\n",
    "app = create_app()\n",
    "\n",
    "\n",
    "with app.app_context():\n",
    "    db.create_all()\n",
    "\n",
    "if __name__ == \"__main__\":\n",
    "    app.run(debug=True)\n"
   ]
  }
 ],
 "metadata": {
  "kernelspec": {
   "display_name": "Python [conda env:base] *",
   "language": "python",
   "name": "conda-base-py"
  },
  "language_info": {
   "codemirror_mode": {
    "name": "ipython",
    "version": 3
   },
   "file_extension": ".py",
   "mimetype": "text/x-python",
   "name": "python",
   "nbconvert_exporter": "python",
   "pygments_lexer": "ipython3",
   "version": "3.12.7"
  }
 },
 "nbformat": 4,
 "nbformat_minor": 5
}
